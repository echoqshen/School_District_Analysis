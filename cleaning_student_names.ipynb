{
 "cells": [
  {
   "cell_type": "code",
   "execution_count": null,
   "id": "84d929a8",
   "metadata": {},
   "outputs": [],
   "source": [
    "import pandas as pd\n",
    "student_data_to_load = \"resources/students_complete.csv\"\n",
    "student_data_df=pd.read_csv(student_data_to_load)\n",
    "student_data_df.head()\n",
    "# # Put the student names in a list.\n",
    "# student_names = student_data_df[\"student_name\"].tolist()\n",
    "# # Split the student name and determine the length of the split name.\n",
    "# for name in student_names:\n",
    "#     name.split()\n",
    "#     len(name.split())"
   ]
  },
  {
   "cell_type": "code",
   "execution_count": null,
   "id": "e0a98f70",
   "metadata": {},
   "outputs": [],
   "source": [
    "# Put the student names in a list.\n",
    "student_names = student_data_df[\"student_name\"].tolist()\n",
    "#print(student_names)\n",
    "# Split the student name and determine the length of the split name.\n",
    "for name in student_names:   \n",
    "    print(name.split(), len(name.split()))\n"
   ]
  },
  {
   "cell_type": "code",
   "execution_count": null,
   "id": "38e1e480",
   "metadata": {},
   "outputs": [],
   "source": [
    "# Create a new list and use it for the for loop to iterate through the list.\n",
    "students_to_fix = []\n",
    "\n",
    "# Use an if statement to check the length of the name.\n",
    "# If the name is greater than or equal to \"3\", add the name to the list.\n",
    "\n",
    "for name in student_names:\n",
    "    if len(name.split()) >= 3:\n",
    "        students_to_fix.append(name)\n",
    "#print(students_to_fix)\n",
    "# Get the length of the students whose names are greater than or equal to \"3\".\n",
    "len(students_to_fix)"
   ]
  },
  {
   "cell_type": "code",
   "execution_count": null,
   "id": "2d59f60c",
   "metadata": {},
   "outputs": [],
   "source": [
    "# Add the prefixes less than or equal to 4 to a new list.\n",
    "prefixes = []\n",
    "for name in students_to_fix:\n",
    "    if len(name.split()[0]) <= 4:\n",
    "        prefixes.append(name.split()[0])\n",
    "\n",
    "# Get the unique items in the \"prefixes\" list.\n",
    "len(set(prefixes))      "
   ]
  },
  {
   "cell_type": "code",
   "execution_count": null,
   "id": "897157c1",
   "metadata": {},
   "outputs": [],
   "source": [
    "# Add the suffixes less than or equal to 3 to a new list.\n",
    "suffixes = []\n",
    "for name in students_to_fix:\n",
    "    if len(name.split()[-1])<=3:\n",
    "        suffixes.append(name.split()[-1])\n",
    "# Get the unique items in the \"suffixes\" list.\n",
    "len(set(suffixes))"
   ]
  },
  {
   "cell_type": "code",
   "execution_count": null,
   "id": "a4766d50",
   "metadata": {},
   "outputs": [],
   "source": [
    "# Add each prefix and suffix to remove to a list.\n",
    "prefixes_suffixes= [\"Dr. \", \"Mr. \",\"Ms. \", \"Mrs. \", \"Miss \", \" MD\", \" DDS\", \" DVM\", \" PhD\"]\n",
    "# Iterate through the \"prefixes_suffixes\" list and replace them with an empty space, \"\" when it appears in the student's name.\n",
    "for word in prefixes_suffixes:\n",
    "    student_data_df[\"student_name\"] = student_data_df[\"student_name\"].str.replace(word,\"\")"
   ]
  },
  {
   "cell_type": "code",
   "execution_count": null,
   "id": "3555781f",
   "metadata": {},
   "outputs": [],
   "source": [
    "# Put the cleaned students' names in another list.\n",
    "student_names = student_data_df[\"student_name\"].tolist()\n",
    "student_names"
   ]
  },
  {
   "cell_type": "code",
   "execution_count": null,
   "id": "c216d70e",
   "metadata": {},
   "outputs": [],
   "source": [
    "# Create a new list and use it for the for loop to iterate through the list.\n",
    "students_fixed = []\n",
    "# Use an if statement to check the length of the name.\n",
    "\n",
    "# If the name is greater than or equal to 3, add the name to the list.\n",
    "for name in student_names:\n",
    "    if len(name.split()) >= 3:\n",
    "        students_fixed.append(name)\n",
    "\n",
    "# Get the length of the students' names that are greater than or equal to 3.\n",
    "len(students_fixed)"
   ]
  },
  {
   "cell_type": "code",
   "execution_count": null,
   "id": "127a8b3a",
   "metadata": {},
   "outputs": [],
   "source": []
  }
 ],
 "metadata": {
  "kernelspec": {
   "display_name": "PythonData",
   "language": "python",
   "name": "pythondata"
  },
  "language_info": {
   "codemirror_mode": {
    "name": "ipython",
    "version": 3
   },
   "file_extension": ".py",
   "mimetype": "text/x-python",
   "name": "python",
   "nbconvert_exporter": "python",
   "pygments_lexer": "ipython3",
   "version": "3.7.10"
  }
 },
 "nbformat": 4,
 "nbformat_minor": 5
}
